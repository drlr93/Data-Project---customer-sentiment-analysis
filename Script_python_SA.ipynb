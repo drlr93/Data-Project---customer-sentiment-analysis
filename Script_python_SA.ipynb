{
 "cells": [
  {
   "cell_type": "code",
   "execution_count": 1,
   "metadata": {},
   "outputs": [],
   "source": [
    "# Doc https://www.nltk.org/api/nltk.html\n",
    "\n",
    "import pyodbc\n",
    "import matplotlib as plt\n",
    "import numpy as np\n",
    "import pandas as pd\n",
    "import nltk"
   ]
  },
  {
   "cell_type": "code",
   "execution_count": 3,
   "metadata": {},
   "outputs": [
    {
     "name": "stderr",
     "output_type": "stream",
     "text": [
      "c:\\Users\\34649\\anaconda3\\lib\\site-packages\\pandas\\io\\sql.py:762: UserWarning: pandas only support SQLAlchemy connectable(engine/connection) ordatabase string URI or sqlite3 DBAPI2 connectionother DBAPI2 objects are not tested, please consider using SQLAlchemy\n",
      "  warnings.warn(\n"
     ]
    },
    {
     "name": "stdout",
     "output_type": "stream",
     "text": [
      "Data frame:   FechaReview  ProductID  Calificacion  \\\n",
      "0  2001-07-08      10002             5   \n",
      "1  2003-11-04      10002             5   \n",
      "2  2001-11-26      10002             5   \n",
      "3  2001-09-22      10002             5   \n",
      "4  2005-11-08      10002             5   \n",
      "\n",
      "                                              Review  Usuario  \\\n",
      "0  wow this is probably my favorite tracks are 1,...    21754   \n",
      "1  From Memphis, TN. comes The Reatards, fronted,...    66453   \n",
      "2  Catch Without Arms Dredg's best work to date. ...    42203   \n",
      "3  Stripped Down, dirty, and very bad ass. The Fr...    82453   \n",
      "4  In the vein as the \"Superchumbo Remix\". Listen...    92821   \n",
      "\n",
      "                                           Categoria  \\\n",
      "0  Music                                         ...   \n",
      "1  Music                                         ...   \n",
      "2  Music                                         ...   \n",
      "3  Music                                         ...   \n",
      "4  Music                                         ...   \n",
      "\n",
      "                                            Producto  \\\n",
      "0  bwTLbeGP8aT6bW7YjgxmDJuCUTlwG1Fz78VewSCYQULiop...   \n",
      "1  bwTLbeGP8aT6bW7YjgxmDJuCUTlwG1Fz78VewSCYQULiop...   \n",
      "2  bwTLbeGP8aT6bW7YjgxmDJuCUTlwG1Fz78VewSCYQULiop...   \n",
      "3  bwTLbeGP8aT6bW7YjgxmDJuCUTlwG1Fz78VewSCYQULiop...   \n",
      "4  bwTLbeGP8aT6bW7YjgxmDJuCUTlwG1Fz78VewSCYQULiop...   \n",
      "\n",
      "                                         Descripcion                tamaño  \n",
      "0  busy daring tithes integrate slyly! enticingly...  economy               \n",
      "1  busy daring tithes integrate slyly! enticingly...  economy               \n",
      "2  busy daring tithes integrate slyly! enticingly...  economy               \n",
      "3  busy daring tithes integrate slyly! enticingly...  economy               \n",
      "4  busy daring tithes integrate slyly! enticingly...  economy               \n"
     ]
    }
   ],
   "source": [
    "# Connection string to connect to SQL Server named instance.\n",
    "\n",
    "#conn_str = pyodbc.connect('DRIVER={ODBC Driver 17 for SQL Server}; SERVER=LENOVO\\SQLEXPRESS; DATABASE=tpcxbb_1gb; UID=<username>; PWD=<password>')\n",
    "\n",
    "conn_str = pyodbc.connect('Driver={SQL Server};' 'Server=LAPTOP-OSCU37E8\\SQLEXPRESS;''Database=tpcxbb_1gb;''Trusted_Connection=yes;')\n",
    "\n",
    "input_query = '''SELECT\n",
    "\n",
    "T0.pr_review_date AS FechaReview,\n",
    "\n",
    "T0.pr_item_sk AS ProductID,\n",
    "\n",
    "T0.pr_review_rating AS Calificacion,\n",
    "\n",
    "T0.pr_review_content AS Review,\n",
    "\n",
    "T0.pr_user_sk AS Usuario,\n",
    "\n",
    "T1.i_category AS Categoria,\n",
    "\n",
    "T1.i_product_name AS Producto,\n",
    "\n",
    "T1.i_item_desc AS Descripcion,\n",
    "\n",
    "T1.i_size AS tamaño\n",
    "\n",
    "\n",
    "\n",
    "FROM product_reviews T0\n",
    "\n",
    "join item T1 ON T0.pr_item_sk = T1.i_item_sk'''\n",
    "\n",
    "\n",
    "\n",
    "###################################################\n",
    "\n",
    "reviews_data = pd.read_sql(input_query, conn_str)\n",
    "\n",
    "\n",
    "print(\"Data frame:\", reviews_data.head(n=5))"
   ]
  }
 ],
 "metadata": {
  "kernelspec": {
   "display_name": "base",
   "language": "python",
   "name": "python3"
  },
  "language_info": {
   "codemirror_mode": {
    "name": "ipython",
    "version": 3
   },
   "file_extension": ".py",
   "mimetype": "text/x-python",
   "name": "python",
   "nbconvert_exporter": "python",
   "pygments_lexer": "ipython3",
   "version": "3.9.13"
  },
  "orig_nbformat": 4,
  "vscode": {
   "interpreter": {
    "hash": "645331ba367c3b3eb85f5552bd6dbd266563646a51f4f9a974cfb68863b22064"
   }
  }
 },
 "nbformat": 4,
 "nbformat_minor": 2
}
